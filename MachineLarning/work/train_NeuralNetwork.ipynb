{
 "cells": [
  {
   "cell_type": "code",
   "execution_count": 2,
   "metadata": {},
   "outputs": [],
   "source": [
    "import torch\n",
    "import torch.nn as nn\n",
    "import torch.nn.functional as F\n",
    "from torchvision import datasets, transforms"
   ]
  },
  {
   "cell_type": "code",
   "execution_count": 3,
   "metadata": {},
   "outputs": [
    {
     "data": {
      "text/plain": [
       "'cuda'"
      ]
     },
     "execution_count": 3,
     "metadata": {},
     "output_type": "execute_result"
    }
   ],
   "source": [
    "#----------------------------------------------------------\n",
    "# ハイパーパラメータなどの設定値\n",
    "num_epochs = 10         # 学習を繰り返す回数\n",
    "num_batch = 100         # 一度に処理する画像の枚数\n",
    "learning_rate = 0.001   # 学習率\n",
    "image_size = 28*28      # 画像の画素数(幅x高さ)\n",
    "\n",
    "# GPU(CUDA)が使えるかどうか？\n",
    "device = 'cuda' if torch.cuda.is_available() else 'cpu'\n",
    "device"
   ]
  },
  {
   "cell_type": "code",
   "execution_count": 4,
   "metadata": {},
   "outputs": [
    {
     "name": "stdout",
     "output_type": "stream",
     "text": [
      "Downloading http://yann.lecun.com/exdb/mnist/train-images-idx3-ubyte.gz\n",
      "Downloading http://yann.lecun.com/exdb/mnist/train-images-idx3-ubyte.gz to ./data/MNIST/raw/train-images-idx3-ubyte.gz\n"
     ]
    },
    {
     "data": {
      "application/vnd.jupyter.widget-view+json": {
       "model_id": "ca7b6ce107244fd48d6f5b437b233f7b",
       "version_major": 2,
       "version_minor": 0
      },
      "text/plain": [
       "  0%|          | 0/9912422 [00:00<?, ?it/s]"
      ]
     },
     "metadata": {},
     "output_type": "display_data"
    },
    {
     "name": "stdout",
     "output_type": "stream",
     "text": [
      "Extracting ./data/MNIST/raw/train-images-idx3-ubyte.gz to ./data/MNIST/raw\n",
      "\n",
      "Downloading http://yann.lecun.com/exdb/mnist/train-labels-idx1-ubyte.gz\n",
      "Downloading http://yann.lecun.com/exdb/mnist/train-labels-idx1-ubyte.gz to ./data/MNIST/raw/train-labels-idx1-ubyte.gz\n"
     ]
    },
    {
     "data": {
      "application/vnd.jupyter.widget-view+json": {
       "model_id": "e794f1753b0b42c58220b30184d3cc65",
       "version_major": 2,
       "version_minor": 0
      },
      "text/plain": [
       "  0%|          | 0/28881 [00:00<?, ?it/s]"
      ]
     },
     "metadata": {},
     "output_type": "display_data"
    },
    {
     "name": "stdout",
     "output_type": "stream",
     "text": [
      "Extracting ./data/MNIST/raw/train-labels-idx1-ubyte.gz to ./data/MNIST/raw\n",
      "\n",
      "Downloading http://yann.lecun.com/exdb/mnist/t10k-images-idx3-ubyte.gz\n",
      "Downloading http://yann.lecun.com/exdb/mnist/t10k-images-idx3-ubyte.gz to ./data/MNIST/raw/t10k-images-idx3-ubyte.gz\n"
     ]
    },
    {
     "data": {
      "application/vnd.jupyter.widget-view+json": {
       "model_id": "9b7eaa03dbd64d478fda7f19c174ebdb",
       "version_major": 2,
       "version_minor": 0
      },
      "text/plain": [
       "  0%|          | 0/1648877 [00:00<?, ?it/s]"
      ]
     },
     "metadata": {},
     "output_type": "display_data"
    },
    {
     "name": "stdout",
     "output_type": "stream",
     "text": [
      "Extracting ./data/MNIST/raw/t10k-images-idx3-ubyte.gz to ./data/MNIST/raw\n",
      "\n",
      "Downloading http://yann.lecun.com/exdb/mnist/t10k-labels-idx1-ubyte.gz\n",
      "Downloading http://yann.lecun.com/exdb/mnist/t10k-labels-idx1-ubyte.gz to ./data/MNIST/raw/t10k-labels-idx1-ubyte.gz\n"
     ]
    },
    {
     "data": {
      "application/vnd.jupyter.widget-view+json": {
       "model_id": "29e88b6599f34845aae6ed2727db9c8e",
       "version_major": 2,
       "version_minor": 0
      },
      "text/plain": [
       "  0%|          | 0/4542 [00:00<?, ?it/s]"
      ]
     },
     "metadata": {},
     "output_type": "display_data"
    },
    {
     "name": "stdout",
     "output_type": "stream",
     "text": [
      "Extracting ./data/MNIST/raw/t10k-labels-idx1-ubyte.gz to ./data/MNIST/raw\n",
      "\n"
     ]
    }
   ],
   "source": [
    "#----------------------------------------------------------\n",
    "# 学習用／評価用のデータセットの作成\n",
    "\n",
    "# 変換方法の指定\n",
    "transform = transforms.Compose([\n",
    "    transforms.ToTensor()\n",
    "    ])\n",
    "\n",
    "# MNISTデータの取得\n",
    "# https://pytorch.org/vision/stable/generated/torchvision.datasets.MNIST.html#torchvision.datasets.MNIST\n",
    "# 学習用\n",
    "train_dataset = datasets.MNIST(\n",
    "    './data',               # データの保存先\n",
    "    train = True,           # 学習用データを取得する\n",
    "    download = True,        # データが無い時にダウンロードする\n",
    "    transform = transform   # テンソルへの変換など\n",
    "    )\n",
    "# 評価用\n",
    "test_dataset = datasets.MNIST(\n",
    "    './data', \n",
    "    train = False,\n",
    "    transform = transform\n",
    "    )\n",
    "\n",
    "# データローダー\n",
    "train_dataloader = torch.utils.data.DataLoader(\n",
    "    train_dataset,\n",
    "    batch_size = num_batch,\n",
    "    shuffle = True)\n",
    "test_dataloader = torch.utils.data.DataLoader(\n",
    "    test_dataset,     \n",
    "    batch_size = num_batch,\n",
    "    shuffle = True)"
   ]
  },
  {
   "cell_type": "code",
   "execution_count": 5,
   "metadata": {},
   "outputs": [],
   "source": [
    "from model_definition import Net\n",
    "\n",
    "#----------------------------------------------------------\n",
    "# ニューラルネットワークの生成\n",
    "model = Net(image_size, 10).to(device)\n",
    "\n",
    "#----------------------------------------------------------\n",
    "# 損失関数の設定\n",
    "criterion = nn.CrossEntropyLoss() \n",
    "\n",
    "#----------------------------------------------------------\n",
    "# 最適化手法の設定\n",
    "optimizer = torch.optim.Adam(model.parameters(), lr = learning_rate) "
   ]
  },
  {
   "cell_type": "code",
   "execution_count": 6,
   "metadata": {},
   "outputs": [
    {
     "name": "stdout",
     "output_type": "stream",
     "text": [
      "Epoch: 1/10, Loss: 2.1073333740234377\n",
      "Epoch: 2/10, Loss: 0.29668047587076823\n",
      "Epoch: 3/10, Loss: 0.2177238972981771\n",
      "Epoch: 4/10, Loss: 0.14874708811442058\n",
      "Epoch: 5/10, Loss: 0.10613042831420899\n",
      "Epoch: 6/10, Loss: 0.08049495697021485\n",
      "Epoch: 7/10, Loss: 0.06555603663126627\n",
      "Epoch: 8/10, Loss: 0.048344449996948244\n",
      "Epoch: 9/10, Loss: 0.040146745045979815\n",
      "Epoch: 10/10, Loss: 0.029250930150349935\n"
     ]
    }
   ],
   "source": [
    "#----------------------------------------------------------\n",
    "# 学習\n",
    "model.train()  # モデルを訓練モードにする\n",
    "\n",
    "for epoch in range(num_epochs): # 学習を繰り返し行う\n",
    "    loss_sum = 0\n",
    "\n",
    "    for inputs, labels in train_dataloader:\n",
    "\n",
    "        # GPUが使えるならGPUにデータを送る\n",
    "        inputs = inputs.to(device)\n",
    "        labels = labels.to(device)\n",
    "\n",
    "        # optimizerを初期化\n",
    "        optimizer.zero_grad()\n",
    "\n",
    "        # ニューラルネットワークの処理を行う\n",
    "        inputs = inputs.view(-1, image_size) # 画像データ部分を一次元へ並び変える\n",
    "        outputs = model(inputs)\n",
    "\n",
    "        # 損失(出力とラベルとの誤差)の計算\n",
    "        loss = criterion(outputs, labels)\n",
    "        loss_sum += loss\n",
    "\n",
    "        # 勾配の計算\n",
    "        loss.backward()\n",
    "\n",
    "        # 重みの更新\n",
    "        optimizer.step()\n",
    "\n",
    "    # 学習状況の表示\n",
    "    print(f\"Epoch: {epoch+1}/{num_epochs}, Loss: {loss_sum.item() / len(train_dataloader)}\")\n",
    "\n",
    "    # モデルの重みの保存\n",
    "    torch.save(model.state_dict(), 'model_weights.pth')"
   ]
  },
  {
   "cell_type": "code",
   "execution_count": 7,
   "metadata": {},
   "outputs": [
    {
     "name": "stdout",
     "output_type": "stream",
     "text": [
      "Loss: 0.09248542785644531, Accuracy: 97.49% (9749/10000)\n"
     ]
    }
   ],
   "source": [
    "#----------------------------------------------------------\n",
    "# 評価\n",
    "model.eval()  # モデルを評価モードにする\n",
    "\n",
    "loss_sum = 0\n",
    "correct = 0\n",
    "\n",
    "with torch.no_grad():\n",
    "    for inputs, labels in test_dataloader:\n",
    "\n",
    "        # GPUが使えるならGPUにデータを送る\n",
    "        inputs = inputs.to(device)\n",
    "        labels = labels.to(device)\n",
    "\n",
    "        # ニューラルネットワークの処理を行う\n",
    "        inputs = inputs.view(-1, image_size) # 画像データ部分を一次元へ並び変える\n",
    "        outputs = model(inputs)\n",
    "\n",
    "        # 損失(出力とラベルとの誤差)の計算\n",
    "        loss_sum += criterion(outputs, labels)\n",
    "\n",
    "        # 正解の値を取得\n",
    "        pred = outputs.argmax(1)\n",
    "        # 正解数をカウント\n",
    "        correct += pred.eq(labels.view_as(pred)).sum().item()\n",
    "\n",
    "print(f\"Loss: {loss_sum.item() / len(test_dataloader)}, Accuracy: {100*correct/len(test_dataset)}% ({correct}/{len(test_dataset)})\")"
   ]
  }
 ],
 "metadata": {
  "kernelspec": {
   "display_name": "Python 3.10.6 ('base')",
   "language": "python",
   "name": "python3"
  },
  "language_info": {
   "codemirror_mode": {
    "name": "ipython",
    "version": 3
   },
   "file_extension": ".py",
   "mimetype": "text/x-python",
   "name": "python",
   "nbconvert_exporter": "python",
   "pygments_lexer": "ipython3",
   "version": "3.10.6"
  },
  "orig_nbformat": 4,
  "vscode": {
   "interpreter": {
    "hash": "d4d1e4263499bec80672ea0156c357c1ee493ec2b1c70f0acce89fc37c4a6abe"
   }
  }
 },
 "nbformat": 4,
 "nbformat_minor": 2
}
