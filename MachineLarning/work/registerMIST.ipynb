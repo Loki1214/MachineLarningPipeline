{
 "cells": [
  {
   "cell_type": "code",
   "execution_count": 1,
   "metadata": {},
   "outputs": [],
   "source": [
    "from torchvision import datasets\n",
    "# MNISTデータの取得\n",
    "# https://pytorch.org/vision/stable/generated/torchvision.datasets.MNIST.html#torchvision.datasets.MNIST\n",
    "# 学習用\n",
    "train_dataset = datasets.MNIST(\n",
    "    './data/torch',               # データの保存先\n",
    "    train = True,           # 学習用データを取得する\n",
    "    download = True,        # データが無い時にダウンロードする\n",
    "    # transform = transform   # テンソルへの変換など\n",
    "    )\n",
    "# 評価用\n",
    "test_dataset = datasets.MNIST(\n",
    "    './data/torch', \n",
    "    train = False,\n",
    "    # transform = transform\n",
    "    )"
   ]
  },
  {
   "cell_type": "code",
   "execution_count": 2,
   "metadata": {},
   "outputs": [
    {
     "data": {
      "text/plain": [
       "0"
      ]
     },
     "execution_count": 2,
     "metadata": {},
     "output_type": "execute_result"
    }
   ],
   "source": [
    "import boto3\n",
    "from botocore.exceptions import ClientError\n",
    "from botocore.config     import Config\n",
    "s3 = boto3.resource(\n",
    "\tservice_name          = \"s3\",\n",
    "\tendpoint_url          = \"http://minio:9000\",\n",
    "\taws_access_key_id     = 'minioadminuser',\n",
    "\taws_secret_access_key = 'minioadminpassword',\n",
    "\tconfig                = Config(proxies={'http': '', 'https': ''}))\n",
    "try:\n",
    "\tbucket = s3.create_bucket(Bucket='digit-images')\n",
    "except ClientError as e:\n",
    "\tif e.response['Error']['Code'] in ('BucketAlreadyExists', 'BucketAlreadyOwnedByYou'):\n",
    "\t\tbucket = s3.Bucket('digit-images')\n",
    "\telse:\n",
    "\t\tprint(f'Unknown exception.\\n\\t ' + e.response['Error']['Code'])\n",
    "\t\traise\n",
    "\n",
    "import re\n",
    "import MySQLdb\n",
    "mysql = MySQLdb.connect(\n",
    "\t\tuser='root',\n",
    "\t\tpassword='root_password',\n",
    "\t\thost='mysql',\n",
    "\t\tport=3306,\n",
    "\t\tdatabase='DigitImages'\n",
    "\t)\n",
    "mysqlCursor = mysql.cursor()\n",
    "tableName='MNIST'\n",
    "mysqlCursor.execute(f'create table IF NOT EXISTS {tableName}(id INT AUTO_INCREMENT primary key, relpath varchar(100), label INT, date DATETIME, is_used BOOLEAN)')\n"
   ]
  },
  {
   "cell_type": "code",
   "execution_count": 5,
   "metadata": {},
   "outputs": [
    {
     "name": "stdout",
     "output_type": "stream",
     "text": [
      " 10000 / 10000"
     ]
    }
   ],
   "source": [
    "indices = [0] * 10\n",
    "dataBase = []\n",
    "\n",
    "import os\n",
    "import matplotlib.pyplot as plt\n",
    "total=len(train_dataset)\n",
    "uploaded=0\n",
    "for image, label in train_dataset:\n",
    "\tbasename = f'train_{label}_{indices[label]}.jpg'\n",
    "\tindices[label] += 1\n",
    "\tlocalpath=os.path.join('./data/',basename)\n",
    "\timage.save(localpath)\n",
    "\tbucket.upload_file(localpath, tableName+'/'+basename)\n",
    "\tmysqlCursor.execute(f\"INSERT INTO {tableName}(relpath,label,date,is_used) VALUES('{basename}',{label},NULL,false)\")\n",
    "\tos.remove(localpath)\n",
    "\tuploaded += 1\n",
    "\tprint(f'\\r {uploaded} / {total}', end=\"\")\n",
    "mysql.commit()\n",
    "\n",
    "total=len(test_dataset)\n",
    "uploaded=0\n",
    "for image, label in test_dataset:\n",
    "\tbasename = f'test_{label}_{indices[label]}.jpg'\n",
    "\tindices[label] += 1\n",
    "\tlocalpath=os.path.join('./data/', basename)\n",
    "\timage.save(localpath)\n",
    "\tbucket.upload_file(localpath, tableName+'/'+basename)\n",
    "\tmysqlCursor.execute(f\"INSERT INTO {tableName}(relpath,label,date,is_used) VALUES('{basename}',{label},NULL,false)\")\n",
    "\tos.remove(localpath)\n",
    "\tuploaded += 1\n",
    "\tprint(f'\\r {uploaded} / {total}', end=\"\")\n",
    "mysql.commit()\n",
    "\n",
    "mysql.close()"
   ]
  }
 ],
 "metadata": {
  "kernelspec": {
   "display_name": "Python 3.10.6 ('base')",
   "language": "python",
   "name": "python3"
  },
  "language_info": {
   "codemirror_mode": {
    "name": "ipython",
    "version": 3
   },
   "file_extension": ".py",
   "mimetype": "text/x-python",
   "name": "python",
   "nbconvert_exporter": "python",
   "pygments_lexer": "ipython3",
   "version": "3.10.6"
  },
  "orig_nbformat": 4,
  "vscode": {
   "interpreter": {
    "hash": "d4d1e4263499bec80672ea0156c357c1ee493ec2b1c70f0acce89fc37c4a6abe"
   }
  }
 },
 "nbformat": 4,
 "nbformat_minor": 2
}
