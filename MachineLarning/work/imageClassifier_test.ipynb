{
 "cells": [
  {
   "cell_type": "code",
   "execution_count": null,
   "metadata": {},
   "outputs": [],
   "source": [
    "from imageClassifier import ImageClassifier\n",
    "classifier = ImageClassifier()"
   ]
  },
  {
   "cell_type": "code",
   "execution_count": null,
   "metadata": {},
   "outputs": [],
   "source": [
    "import torch\n",
    "from custom_dataset import MyDataset\n",
    "full_dataset = MyDataset(\n",
    "\tcsv_file='./data/MNIST.csv', \n",
    "\troot_dir='./data',\n",
    "\ttransform=classifier.model.transform\n",
    ")\n",
    "\n",
    "# 学習データ、検証データに 8:2 の割合で分割する。\n",
    "train_size = int(0.8 * len(full_dataset))\n",
    "test_size  = len(full_dataset) - train_size\n",
    "train_dataset, test_dataset = torch.utils.data.random_split(\n",
    "    full_dataset, [train_size, test_size]\n",
    ")\n",
    "\n",
    "#----------------------------------------------------------\n",
    "# 学習用／評価用のデータセットの作成\n",
    "# ハイパーパラメータなどの設定値\n",
    "num_batch = 1         # 一度に処理する画像の枚数\n",
    "\n",
    "# データローダー\n",
    "train_dataloader = torch.utils.data.DataLoader(\n",
    "    train_dataset,\n",
    "    batch_size = num_batch,\n",
    "    shuffle = True)\n",
    "test_dataloader = torch.utils.data.DataLoader(\n",
    "    test_dataset,     \n",
    "    batch_size = num_batch,\n",
    "    shuffle = True)"
   ]
  },
  {
   "cell_type": "code",
   "execution_count": null,
   "metadata": {},
   "outputs": [],
   "source": [
    "print(test_dataset[0][0].shape)"
   ]
  },
  {
   "cell_type": "code",
   "execution_count": null,
   "metadata": {},
   "outputs": [],
   "source": [
    "incorrect = []\n",
    "for image, label in test_dataloader:\n",
    "\tpred = classifier.predict(image[0])\n",
    "\tif pred != label[0]:\n",
    "\t\tincorrect.append([image[0], label[0], pred])\n",
    "\t\tprint(f\"prediction = {pred}, correct label = {label[0]}\")"
   ]
  },
  {
   "cell_type": "code",
   "execution_count": null,
   "metadata": {},
   "outputs": [],
   "source": [
    "print(f\"{len(incorrect)} / {len(test_dataloader)}, accuracy = {1-len(incorrect)/len(test_dataloader)}\")\n",
    "iterator = iter(incorrect)"
   ]
  },
  {
   "cell_type": "code",
   "execution_count": null,
   "metadata": {},
   "outputs": [],
   "source": [
    "from torchvision import transforms\n",
    "import matplotlib.pyplot as plt\n",
    "image, label, pred = next(iterator)\n",
    "print(f\"prediction = {pred}, correct label= {label}\")\n",
    "pil = transforms.ToPILImage()(image)\n",
    "# pil = transforms.Resize(classifier.model.image_size)(pil)\n",
    "plt.imshow(pil)\n",
    "# plt.imshow(image.numpy().reshape(classifier.model.image_size), cmap='gray')"
   ]
  },
  {
   "cell_type": "code",
   "execution_count": null,
   "metadata": {},
   "outputs": [],
   "source": [
    "from PIL import Image\n",
    "import matplotlib.pyplot as plt\n",
    "image = Image.open('illustrain01-moji01.png')\n",
    "# plt.imshow(image)\n",
    "plt.imshow(image.convert('L'), cmap='gray')\n",
    "# plt.imshow(transforms.Grayscale()(image), cmap='gray')\n",
    "pred = classifier.predict(image)\n",
    "print(f\"prediction = {pred}\")\n",
    "print(image.mode)\n",
    "# transforms.ToTensor()(image)[0]"
   ]
  }
 ],
 "metadata": {
  "kernelspec": {
   "display_name": "Python 3.10.6 ('base')",
   "language": "python",
   "name": "python3"
  },
  "language_info": {
   "codemirror_mode": {
    "name": "ipython",
    "version": 3
   },
   "file_extension": ".py",
   "mimetype": "text/x-python",
   "name": "python",
   "nbconvert_exporter": "python",
   "pygments_lexer": "ipython3",
   "version": "3.10.6"
  },
  "orig_nbformat": 4,
  "vscode": {
   "interpreter": {
    "hash": "d4d1e4263499bec80672ea0156c357c1ee493ec2b1c70f0acce89fc37c4a6abe"
   }
  }
 },
 "nbformat": 4,
 "nbformat_minor": 2
}
