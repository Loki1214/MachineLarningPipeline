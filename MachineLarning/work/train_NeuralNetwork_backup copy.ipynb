{
 "cells": [
  {
   "cell_type": "code",
   "execution_count": 1,
   "metadata": {},
   "outputs": [],
   "source": [
    "import torch\n",
    "import torch.nn as nn\n",
    "import torch.nn.functional as F\n",
    "from torchvision import datasets, transforms"
   ]
  },
  {
   "cell_type": "code",
   "execution_count": 2,
   "metadata": {},
   "outputs": [
    {
     "data": {
      "text/plain": [
       "'cuda'"
      ]
     },
     "execution_count": 2,
     "metadata": {},
     "output_type": "execute_result"
    }
   ],
   "source": [
    "# GPU(CUDA)が使えるかどうか？\n",
    "device = 'cuda' if torch.cuda.is_available() else 'cpu'\n",
    "device"
   ]
  },
  {
   "cell_type": "code",
   "execution_count": 3,
   "metadata": {},
   "outputs": [],
   "source": [
    "from model_definition import Net\n",
    "#----------------------------------------------------------\n",
    "# ニューラルネットワークの生成\n",
    "model = Net().to(device)"
   ]
  },
  {
   "cell_type": "code",
   "execution_count": 4,
   "metadata": {},
   "outputs": [],
   "source": [
    "from custom_dataset import MyDataset\n",
    "full_dataset = MyDataset(\n",
    "\tcsv_file='./data/MNIST.csv', \n",
    "\troot_dir='./data',\n",
    "\ttransform=model.transform\n",
    ")\n",
    "\n",
    "# 学習データ、検証データに 8:2 の割合で分割する。\n",
    "train_size = int(0.8 * len(full_dataset))\n",
    "test_size  = len(full_dataset) - train_size\n",
    "train_dataset, test_dataset = torch.utils.data.random_split(\n",
    "    full_dataset, [train_size, test_size]\n",
    ")\n",
    "\n",
    "#----------------------------------------------------------\n",
    "# 学習用／評価用のデータセットの作成\n",
    "# ハイパーパラメータなどの設定値\n",
    "num_epochs = 10         # 学習を繰り返す回数\n",
    "num_batch = 100         # 一度に処理する画像の枚数\n",
    "learning_rate = 0.001   # 学習率\n",
    "\n",
    "# データローダー\n",
    "train_dataloader = torch.utils.data.DataLoader(\n",
    "    train_dataset,\n",
    "    batch_size = num_batch,\n",
    "    shuffle = True)\n",
    "test_dataloader = torch.utils.data.DataLoader(\n",
    "    test_dataset,     \n",
    "    batch_size = num_batch,\n",
    "    shuffle = True)"
   ]
  },
  {
   "cell_type": "code",
   "execution_count": 5,
   "metadata": {},
   "outputs": [
    {
     "name": "stdout",
     "output_type": "stream",
     "text": [
      "Epoch: 1/10, Loss: 0.3606540857677391\n",
      "Epoch: 2/10, Loss: 0.13647825999926494\n",
      "Epoch: 3/10, Loss: 0.10370262720251597\n",
      "Epoch: 4/10, Loss: 0.08769689580445648\n",
      "Epoch: 5/10, Loss: 0.07644450963611671\n",
      "Epoch: 6/10, Loss: 0.06951031291783924\n",
      "Epoch: 7/10, Loss: 0.06424781498515905\n",
      "Epoch: 8/10, Loss: 0.05877522841149334\n",
      "Epoch: 9/10, Loss: 0.054562486628050445\n",
      "Epoch: 10/10, Loss: 0.05204835843869007\n"
     ]
    }
   ],
   "source": [
    "#----------------------------------------------------------\n",
    "# 学習\n",
    "model.train()  # モデルを訓練モードにする\n",
    "\n",
    "#----------------------------------------------------------\n",
    "# 損失関数の設定\n",
    "criterion = nn.CrossEntropyLoss() \n",
    "\n",
    "#----------------------------------------------------------\n",
    "# 最適化手法の設定\n",
    "optimizer = torch.optim.Adam(model.parameters(), lr = learning_rate) \n",
    "\n",
    "for epoch in range(num_epochs): # 学習を繰り返し行う\n",
    "    loss_sum = 0\n",
    "\n",
    "    for inputs, labels in train_dataloader:\n",
    "        # GPUが使えるならGPUにデータを送る\n",
    "        inputs = inputs.to(device)\n",
    "        labels = labels.to(device)\n",
    "\n",
    "        # # optimizerを初期化\n",
    "        optimizer.zero_grad()\n",
    "\n",
    "        # # ニューラルネットワークの処理を行う\n",
    "        outputs = model(inputs)\n",
    "\n",
    "        # # 損失(出力とラベルとの誤差)の計算\n",
    "        loss = criterion(outputs, labels)\n",
    "        loss_sum += loss\n",
    "\n",
    "        # # 勾配の計算\n",
    "        loss.backward()\n",
    "\n",
    "        # # 重みの更新\n",
    "        optimizer.step()\n",
    "\n",
    "    # 学習状況の表示\n",
    "    print(f\"Epoch: {epoch+1}/{num_epochs}, Loss: {loss_sum.item() / len(train_dataloader)}\")\n",
    "\n",
    "    # モデルの重みの保存\n",
    "    torch.save(model.state_dict(), 'model_weights.pth')"
   ]
  },
  {
   "cell_type": "code",
   "execution_count": 6,
   "metadata": {},
   "outputs": [
    {
     "name": "stdout",
     "output_type": "stream",
     "text": [
      "Loss: 0.032504705020359584, Accuracy: 99.00982994905647% (13799/13937)\n"
     ]
    }
   ],
   "source": [
    "#----------------------------------------------------------\n",
    "# 評価\n",
    "model.eval()  # モデルを評価モードにする\n",
    "\n",
    "loss_sum = 0\n",
    "correct = 0\n",
    "\n",
    "with torch.no_grad():\n",
    "    for inputs, labels in test_dataloader:\n",
    "\n",
    "        # GPUが使えるならGPUにデータを送る\n",
    "        inputs = inputs.to(device)\n",
    "        labels = labels.to(device)\n",
    "\n",
    "        # ニューラルネットワークの処理を行う\n",
    "        outputs = model(inputs)\n",
    "\n",
    "        # 損失(出力とラベルとの誤差)の計算\n",
    "        loss_sum += criterion(outputs, labels)\n",
    "\n",
    "        # 正解の値を取得\n",
    "        pred = outputs.argmax(1)\n",
    "        # 正解数をカウント\n",
    "        correct += pred.eq(labels.view_as(pred)).sum().item()\n",
    "\n",
    "print(f\"Loss: {loss_sum.item() / len(test_dataloader)}, Accuracy: {100*correct/len(test_dataset)}% ({correct}/{len(test_dataset)})\")"
   ]
  }
 ],
 "metadata": {
  "kernelspec": {
   "display_name": "Python 3.10.6 ('base')",
   "language": "python",
   "name": "python3"
  },
  "language_info": {
   "codemirror_mode": {
    "name": "ipython",
    "version": 3
   },
   "file_extension": ".py",
   "mimetype": "text/x-python",
   "name": "python",
   "nbconvert_exporter": "python",
   "pygments_lexer": "ipython3",
   "version": "3.10.6"
  },
  "orig_nbformat": 4,
  "vscode": {
   "interpreter": {
    "hash": "d4d1e4263499bec80672ea0156c357c1ee493ec2b1c70f0acce89fc37c4a6abe"
   }
  }
 },
 "nbformat": 4,
 "nbformat_minor": 2
}
