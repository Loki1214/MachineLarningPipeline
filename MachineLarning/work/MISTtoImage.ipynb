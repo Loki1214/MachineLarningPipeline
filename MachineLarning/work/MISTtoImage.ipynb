{
 "cells": [
  {
   "cell_type": "code",
   "execution_count": 2,
   "metadata": {},
   "outputs": [],
   "source": [
    "from torchvision import datasets\n",
    "# MNISTデータの取得\n",
    "# https://pytorch.org/vision/stable/generated/torchvision.datasets.MNIST.html#torchvision.datasets.MNIST\n",
    "# 学習用\n",
    "train_dataset = datasets.MNIST(\n",
    "    './data/torch',               # データの保存先\n",
    "    train = True,           # 学習用データを取得する\n",
    "    download = True,        # データが無い時にダウンロードする\n",
    "    # transform = transform   # テンソルへの変換など\n",
    "    )\n",
    "# 評価用\n",
    "test_dataset = datasets.MNIST(\n",
    "    './data/torch', \n",
    "    train = False,\n",
    "    # transform = transform\n",
    "    )"
   ]
  },
  {
   "cell_type": "code",
   "execution_count": 3,
   "metadata": {},
   "outputs": [],
   "source": [
    "indices = [0] * 10\n",
    "dataBase = []\n",
    "\n",
    "import matplotlib.pyplot as plt\n",
    "for image, label in train_dataset:\n",
    "\t# print(f\"label = {label}\")\n",
    "\t# plt.imshow(image)\n",
    "\trelpath = f'MNIST_{label}_{indices[label]}.jpg'\n",
    "\timage.save(f'data/{relpath}')\n",
    "\tindices[label] += 1\n",
    "\tdataBase.append([relpath, label])\n",
    "\n",
    "for image, label in test_dataset:\n",
    "\t# print(f\"label = {label}\")\n",
    "\t# plt.imshow(image)\n",
    "\trelpath = f'MNIST_{label}_{indices[label]}.jpg'\n",
    "\timage.save(f'data/{relpath}')\n",
    "\tindices[label] += 1\n",
    "\tdataBase.append([relpath, label])"
   ]
  },
  {
   "cell_type": "code",
   "execution_count": 4,
   "metadata": {},
   "outputs": [],
   "source": [
    "import re\n",
    "def atoi(text):\n",
    "    return int(text) if text.isdigit() else text\n",
    "def natural_keys(list):\n",
    "    return [ atoi(c) for c in re.split(r'(\\d+)', list[0]) ]\n",
    "\n",
    "import csv\n",
    "file = open('data/MNIST.csv', 'w', newline='')\n",
    "dataBaseSorted = sorted(dataBase, key=natural_keys)\n",
    "csv.writer(file).writerows(dataBaseSorted)"
   ]
  }
 ],
 "metadata": {
  "kernelspec": {
   "display_name": "Python 3.10.6 ('base')",
   "language": "python",
   "name": "python3"
  },
  "language_info": {
   "codemirror_mode": {
    "name": "ipython",
    "version": 3
   },
   "file_extension": ".py",
   "mimetype": "text/x-python",
   "name": "python",
   "nbconvert_exporter": "python",
   "pygments_lexer": "ipython3",
   "version": "3.10.6"
  },
  "orig_nbformat": 4,
  "vscode": {
   "interpreter": {
    "hash": "d4d1e4263499bec80672ea0156c357c1ee493ec2b1c70f0acce89fc37c4a6abe"
   }
  }
 },
 "nbformat": 4,
 "nbformat_minor": 2
}
