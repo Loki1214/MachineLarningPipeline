{
 "cells": [
  {
   "cell_type": "code",
   "execution_count": null,
   "metadata": {},
   "outputs": [],
   "source": [
    "import setproctitle\n",
    "setproctitle.setproctitle('train_NeuralNetwork')"
   ]
  },
  {
   "cell_type": "code",
   "execution_count": 1,
   "metadata": {},
   "outputs": [
    {
     "name": "stdout",
     "output_type": "stream",
     "text": [
      "/home/jovyan/work\n"
     ]
    }
   ],
   "source": [
    "%cd /home/jovyan/work\n",
    "from torchvision import datasets\n",
    "# MNISTデータの取得\n",
    "# https://pytorch.org/vision/stable/generated/torchvision.datasets.MNIST.html#torchvision.datasets.MNIST\n",
    "# 学習用\n",
    "train_dataset = datasets.MNIST(\n",
    "    './data/torch',               # データの保存先\n",
    "    train = True,           # 学習用データを取得する\n",
    "    download = True,        # データが無い時にダウンロードする\n",
    "    # transform = transform   # テンソルへの変換など\n",
    "    )\n",
    "# 評価用\n",
    "test_dataset = datasets.MNIST(\n",
    "    './data/torch', \n",
    "    train = False,\n",
    "    # transform = transform\n",
    "    )"
   ]
  },
  {
   "cell_type": "code",
   "execution_count": 2,
   "metadata": {},
   "outputs": [],
   "source": [
    "import os\n",
    "import multiprocessing\n",
    "workers = multiprocessing.cpu_count()\n",
    "\n",
    "import boto3\n",
    "from botocore.exceptions import ClientError\n",
    "from botocore.config     import Config\n",
    "s3 = boto3.resource(\n",
    "\t\tservice_name          = \"s3\",\n",
    "\t\tendpoint_url          = \"http://minio:9000\",\n",
    "\t\taws_access_key_id     = os.getenv('MINIO_ROOT_USER'),\n",
    "\t\taws_secret_access_key = os.getenv('MINIO_ROOT_PASSWORD'),\n",
    "\t\tconfig                = Config(max_pool_connections=workers,\n",
    "\t\t\t\t\t\t\t\t\t   proxies={'http':  os.getenv('HTTP_PROXY'), \n",
    "\t\t\t\t\t\t\t\t\t   \t\t\t'https': os.getenv('HTTPS_PROXY')})\n",
    ")\n",
    "try:\n",
    "\tbucket = s3.create_bucket(Bucket='digit-images')\n",
    "except ClientError as e:\n",
    "\tif e.response['Error']['Code'] in ('BucketAlreadyExists', 'BucketAlreadyOwnedByYou'):\n",
    "\t\tbucket = s3.Bucket('digit-images')\n",
    "\t\tbucket.objects.all().delete()\n",
    "\telse:\n",
    "\t\tprint(f'Unknown exception.\\n\\t ' + e.response['Error']['Code'])\n",
    "\t\traise"
   ]
  },
  {
   "cell_type": "code",
   "execution_count": null,
   "metadata": {},
   "outputs": [],
   "source": [
    "import MySQLdb\n",
    "mysql = MySQLdb.connect(\n",
    "\t\tuser     = os.getenv('MYSQL_USER'),\n",
    "\t\tpassword = os.getenv('MYSQL_PASSWORD'),\n",
    "\t\tdatabase = os.getenv('MYSQL_DATABASE'),\n",
    "\t\thost     = os.getenv('DATABASE'),\n",
    "\t\tport     = 3306\n",
    ")\n",
    "cursor = mysql.cursor()\n",
    "cursor.execute(f'drop table IF EXISTS MNIST')\n",
    "cursor.execute(f'create table IF NOT EXISTS \\\n",
    "\tMNIST(id INT AUTO_INCREMENT primary key, relpath varchar(100), label INT, date DATETIME, is_used BOOLEAN)')\n",
    "mysql.commit()\n",
    "mysql.close()"
   ]
  },
  {
   "cell_type": "code",
   "execution_count": null,
   "metadata": {},
   "outputs": [],
   "source": [
    "import io\n",
    "from multiprocessing import Pool, Value, Array\n",
    "\n",
    "def init():\n",
    "\tglobal s3, bucket\n",
    "\ts3 = boto3.resource(\n",
    "\t\tservice_name          = \"s3\",\n",
    "\t\tendpoint_url          = \"http://minio:9000\",\n",
    "\t\taws_access_key_id     = os.getenv('MINIO_ROOT_USER'),\n",
    "\t\taws_secret_access_key = os.getenv('MINIO_ROOT_PASSWORD'),\n",
    "\t\tconfig                = Config(max_pool_connections=workers,\n",
    "\t\t\t\t\t\t\t\t\t   proxies={'http':  os.getenv('HTTP_PROXY'),\n",
    "\t\t\t\t\t\t\t\t\t   \t\t\t'https': os.getenv('HTTPS_PROXY')})\n",
    "\t)\n",
    "\tbucket = s3.Bucket('digit-images')\n",
    "\n",
    "\tglobal mysql, mysqlCursor #接続オブジェクトをグローバル変数で定義する。\n",
    "\tmysql = MySQLdb.connect(\n",
    "\t\tuser     = os.getenv('MYSQL_USER'),\n",
    "\t\tpassword = os.getenv('MYSQL_PASSWORD'),\n",
    "\t\tdatabase = os.getenv('MYSQL_DATABASE'),\n",
    "\t\thost     = os.getenv('DATABASE'),\n",
    "\t\tport     = 3306\n",
    "\t)\n",
    "\tmysqlCursor = mysql.cursor()\n",
    "\n",
    "indices  = Array('i', [0]*10)\n",
    "uploaded = Value('i', 0)\n",
    "def register_mnist_images(idx, dataset, prefix) -> None:\n",
    "\timage, label = dataset[idx]\n",
    "\twith indices.get_lock():\n",
    "\t\tsubIndex = indices[label]\n",
    "\t\tindices[label] += 1\n",
    "\t\tuploaded = sum(indices[:])\n",
    "\t\tprint(f'\\t{uploaded} / {len(dataset)}, indices={indices}', end=\"\")\n",
    "\tbasename = prefix + f'_{label}_{subIndex}.jpg'\n",
    "\n",
    "\timage_bytes = io.BytesIO()\n",
    "\timage.save(image_bytes, format=\"JPEG\")\n",
    "\timage_bytes.seek(0)\n",
    "\tbucket.upload_fileobj(Fileobj=image_bytes, Key='MNIST_'+basename)\n",
    "\n",
    "\tmysqlCursor.execute(f\"INSERT INTO MNIST(relpath,label,date,is_used) \\\n",
    "\t\tVALUES('{basename}',{label},NULL,false)\")\n",
    "\tmysql.commit()\n",
    "\n",
    "class register_mnist_images_wrapper:\n",
    "\tdef __init__ (self, dataset, prefix):\n",
    "\t\tself.dataset = dataset\n",
    "\t\tself.prefix  = prefix\n",
    "\n",
    "\tdef __call__ (self, index):\n",
    "\t\tregister_mnist_images(index, self.dataset, self.prefix)\n",
    "\t\tprint('')\n",
    "\t\treturn None"
   ]
  },
  {
   "cell_type": "code",
   "execution_count": null,
   "metadata": {},
   "outputs": [],
   "source": [
    "if __name__ == '__main__':\n",
    "\twith Pool(processes=workers, initializer=init) as parallel:\n",
    "\t\tindices[:]  = [0]*10\n",
    "\t\tuploaded.value = 0\n",
    "\t\tprint('Uploading training data ...')\n",
    "\t\tparallel.map(register_mnist_images_wrapper(train_dataset, prefix='train'), range(0,len(train_dataset)))\n",
    "\t\tprint(indices[:], uploaded.value)\n",
    "\t\tprint(sum(indices))\n",
    "\n",
    "\t\tindices[:]  = [0]*10\n",
    "\t\tuploaded.value = 0\n",
    "\t\tprint('Uploading test data ...')\n",
    "\t\tparallel.map(register_mnist_images_wrapper(test_dataset, prefix='test'), range(0,len(test_dataset)))\n",
    "\t\tprint(indices[:], uploaded.value)\n",
    "\t\tprint(sum(indices))\n",
    "\t\tparallel.close()\n",
    "\n",
    "# 2m 46s\n",
    "# 1m 7.8s"
   ]
  }
 ],
 "metadata": {
  "kernelspec": {
   "display_name": "Python 3.10.4 64-bit",
   "language": "python",
   "name": "python3"
  },
  "language_info": {
   "codemirror_mode": {
    "name": "ipython",
    "version": 3
   },
   "file_extension": ".py",
   "mimetype": "text/x-python",
   "name": "python",
   "nbconvert_exporter": "python",
   "pygments_lexer": "ipython3",
   "version": "3.10.4"
  },
  "orig_nbformat": 4,
  "vscode": {
   "interpreter": {
    "hash": "31f2aee4e71d21fbe5cf8b01ff0e069b9275f58929596ceb00d14d90e3e16cd6"
   }
  }
 },
 "nbformat": 4,
 "nbformat_minor": 2
}
