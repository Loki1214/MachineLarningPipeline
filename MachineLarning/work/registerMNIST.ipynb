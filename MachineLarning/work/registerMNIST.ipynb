{
 "cells": [
  {
   "cell_type": "code",
   "execution_count": null,
   "metadata": {},
   "outputs": [
    {
     "ename": "",
     "evalue": "",
     "output_type": "error",
     "traceback": [
      "\u001b[1;31mRunning cells with 'Python 3.10.4 64-bit' requires ipykernel package.\n",
      "\u001b[1;31mRun the following command to install 'ipykernel' into the Python environment. \n",
      "\u001b[1;31mCommand: '/usr/bin/python3 -m pip install ipykernel -U --user --force-reinstall'"
     ]
    }
   ],
   "source": [
    "import os, setproctitle\n",
    "setproctitle.setproctitle(os.path.basename(__file__))\n",
    "workers = os.cpu_count()"
   ]
  },
  {
   "cell_type": "code",
   "execution_count": null,
   "metadata": {},
   "outputs": [],
   "source": [
    "from torchvision import datasets\n",
    "# MNISTデータの取得\n",
    "# https://pytorch.org/vision/stable/generated/torchvision.datasets.MNIST.html#torchvision.datasets.MNIST\n",
    "# 学習用\n",
    "train_dataset = datasets.MNIST(\n",
    "    './data/torch',               # データの保存先\n",
    "    train = True,           # 学習用データを取得する\n",
    "    download = True,        # データが無い時にダウンロードする\n",
    "    # transform = transform   # テンソルへの変換など\n",
    "    )\n",
    "# 評価用\n",
    "test_dataset = datasets.MNIST(\n",
    "    './data/torch', \n",
    "    train = False,\n",
    "    # transform = transform\n",
    "    )"
   ]
  },
  {
   "cell_type": "code",
   "execution_count": null,
   "metadata": {},
   "outputs": [],
   "source": [
    "from storage.settings import StorageManager\n",
    "import boto3\n",
    "from botocore.exceptions import ClientError\n",
    "from botocore.config     import Config\n",
    "\n",
    "storage = StorageManager()\n",
    "s3 = boto3.resource(\n",
    "\t\tservice_name          = \"s3\",\n",
    "\t\tendpoint_url          = f\"http://{storage.host}:{storage.port}\",\n",
    "\t\taws_access_key_id     = storage.username,\n",
    "\t\taws_secret_access_key = storage.password,\n",
    "\t\tconfig                = Config(max_pool_connections=workers,\n",
    "\t\t\t\t\t\t\t\t\t   proxies={'http':  os.getenv('HTTP_PROXY'),\n",
    "\t\t\t\t\t\t\t\t\t   \t\t\t'https': os.getenv('HTTPS_PROXY')})\n",
    "\t)\n",
    "try:\n",
    "\tbucket = s3.create_bucket(Bucket=storage.bucket)\n",
    "except ClientError as e:\n",
    "\tif e.response['Error']['Code'] in ('BucketAlreadyExists', 'BucketAlreadyOwnedByYou'):\n",
    "\t\tbucket = s3.Bucket(storage.bucket)\n",
    "\t\tbucket.objects.all().delete()\n",
    "\telse:\n",
    "\t\tprint(f'Unknown exception.\\n\\t ' + e.response['Error']['Code'])\n",
    "\t\traise"
   ]
  },
  {
   "cell_type": "code",
   "execution_count": null,
   "metadata": {},
   "outputs": [],
   "source": [
    "from sqlalchemy import create_engine, inspect\n",
    "from sqlalchemy.sql import select\n",
    "from database.settings import DBManager\n",
    "from database.tables   import MNIST, Uploaded\n",
    "\n",
    "db = DBManager()\n",
    "engine = create_engine(f\"{db.dialect}://{db.username}:{db.password}@{db.host}:{db.port}/{db.database}?charset=utf8\")\n",
    "if inspect(engine).has_table(MNIST.__tablename__):\n",
    "\tMNIST.__table__.drop(engine)\n",
    "MNIST.__table__.create(bind = engine)\n",
    "engine.dispose()"
   ]
  },
  {
   "cell_type": "code",
   "execution_count": null,
   "metadata": {},
   "outputs": [],
   "source": [
    "import io\n",
    "from multiprocessing import Pool, Array\n",
    "\n",
    "from sqlalchemy.orm import Session\n",
    "\n",
    "def init():\n",
    "\tglobal bucket\n",
    "\ts3 = boto3.resource(\n",
    "\t\tservice_name          = \"s3\",\n",
    "\t\tendpoint_url          = f\"http://{storage.host}:{storage.port}\",\n",
    "\t\taws_access_key_id     = storage.username,\n",
    "\t\taws_secret_access_key = storage.password,\n",
    "\t\tconfig                = Config(max_pool_connections=workers,\n",
    "\t\t\t\t\t\t\t\t\t   proxies={'http':  os.getenv('HTTP_PROXY'),\n",
    "\t\t\t\t\t\t\t\t\t   \t\t\t'https': os.getenv('HTTPS_PROXY')})\n",
    "\t)\n",
    "\tbucket = s3.Bucket(storage.bucket)\n",
    "\n",
    "\tglobal session\n",
    "\tengine  = create_engine(f\"{db.dialect}://{db.username}:{db.password}@{db.host}:{db.port}/{db.database}?charset=utf8\")\n",
    "\tsession = Session(autocommit=False,\n",
    "\t\t\t\t\t   autoflush=True,\n",
    "\t\t\t\t\t   expire_on_commit=False,\n",
    "\t\t\t\t\t   bind=engine)\n",
    "\n",
    "indices  = Array('i', [0]*10)\n",
    "def register_mnist_images(idx, dataset, prefix) -> None:\n",
    "\timage, label = dataset[idx]\n",
    "\twith indices.get_lock():\n",
    "\t\tsubIndex = indices[label]\n",
    "\t\tindices[label] += 1\n",
    "\t\tuploaded = sum(indices[:])\n",
    "\t\tprint(f'\\r{uploaded} / {len(dataset)}', end='')\n",
    "\tbasename = prefix + f'_{label}_{subIndex}.jpg'\n",
    "\n",
    "\timage_bytes = io.BytesIO()\n",
    "\timage.save(image_bytes, format=\"JPEG\")\n",
    "\timage_bytes.seek(0)\n",
    "\tbucket.upload_fileobj(Fileobj=image_bytes, Key=MNIST.__tablename__+'/'+basename)\n",
    "\n",
    "\tsession.add( MNIST(relpath=basename, label=label, date=None, is_used=False) )\n",
    "\tsession.commit()\n",
    "\n",
    "class register_mnist_images_wrapper:\n",
    "\tdef __init__ (self, dataset, prefix):\n",
    "\t\tself.dataset = dataset\n",
    "\t\tself.prefix  = prefix\n",
    "\n",
    "\tdef __call__ (self, index):\n",
    "\t\tregister_mnist_images(index, self.dataset, self.prefix)\n",
    "\t\tprint('')\n",
    "\t\treturn None"
   ]
  },
  {
   "cell_type": "code",
   "execution_count": null,
   "metadata": {},
   "outputs": [],
   "source": [
    "if __name__ == '__main__':\n",
    "\twith Pool(processes=workers, initializer=init) as parallel:\n",
    "\t\tindices[:]  = [0]*10\n",
    "\t\tprint('Uploading training data ...')\n",
    "\t\tparallel.map(register_mnist_images_wrapper(train_dataset, prefix='train'), range(0,len(train_dataset)))\n",
    "\t\tprint(indices[:])\n",
    "\t\tprint(sum(indices))\n",
    "\n",
    "\t\tindices[:]  = [0]*10\n",
    "\t\tprint('Uploading test data ...')\n",
    "\t\tparallel.map(register_mnist_images_wrapper(test_dataset, prefix='test'), range(0,len(test_dataset)))\n",
    "\t\tprint(indices[:])\n",
    "\t\tprint(sum(indices))\n",
    "\n",
    "# 2m 46s\n",
    "# 1m 7.8s"
   ]
  }
 ],
 "metadata": {
  "kernelspec": {
   "display_name": "Python 3.10.4 64-bit",
   "language": "python",
   "name": "python3"
  },
  "language_info": {
   "codemirror_mode": {
    "name": "ipython",
    "version": 3
   },
   "file_extension": ".py",
   "mimetype": "text/x-python",
   "name": "python",
   "nbconvert_exporter": "python",
   "pygments_lexer": "ipython3",
   "version": "3.10.4"
  },
  "orig_nbformat": 4,
  "vscode": {
   "interpreter": {
    "hash": "31f2aee4e71d21fbe5cf8b01ff0e069b9275f58929596ceb00d14d90e3e16cd6"
   }
  }
 },
 "nbformat": 4,
 "nbformat_minor": 2
}
